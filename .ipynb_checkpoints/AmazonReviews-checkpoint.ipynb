{
 "cells": [
  {
   "cell_type": "code",
   "execution_count": 1,
   "id": "64e3a84a",
   "metadata": {},
   "outputs": [],
   "source": [
    "# import important libraries\n",
    "import pandas as pd\n",
    "import numpy as np\n",
    "import matplotlib.pyplot as plt\n",
    "import seaborn as sns\n",
    "import sklearn as sk\n"
   ]
  },
  {
   "cell_type": "code",
   "execution_count": 2,
   "id": "6fd8cc69",
   "metadata": {},
   "outputs": [],
   "source": [
    "# read the data\n",
    "df=pd.read_csv('processed_reviews_split_surnamesA_minimal.csv')"
   ]
  },
  {
   "cell_type": "code",
   "execution_count": 3,
   "id": "800f2cc5",
   "metadata": {},
   "outputs": [
    {
     "data": {
      "text/html": [
       "<div>\n",
       "<style scoped>\n",
       "    .dataframe tbody tr th:only-of-type {\n",
       "        vertical-align: middle;\n",
       "    }\n",
       "\n",
       "    .dataframe tbody tr th {\n",
       "        vertical-align: top;\n",
       "    }\n",
       "\n",
       "    .dataframe thead th {\n",
       "        text-align: right;\n",
       "    }\n",
       "</style>\n",
       "<table border=\"1\" class=\"dataframe\">\n",
       "  <thead>\n",
       "    <tr style=\"text-align: right;\">\n",
       "      <th></th>\n",
       "      <th>review_id</th>\n",
       "      <th>text</th>\n",
       "      <th>verified</th>\n",
       "      <th>review_score</th>\n",
       "      <th>product_category</th>\n",
       "      <th>Unnamed: 5</th>\n",
       "      <th>Unnamed: 6</th>\n",
       "      <th>Unnamed: 7</th>\n",
       "      <th>Unnamed: 8</th>\n",
       "      <th>Unnamed: 9</th>\n",
       "      <th>Unnamed: 10</th>\n",
       "      <th>Unnamed: 11</th>\n",
       "    </tr>\n",
       "  </thead>\n",
       "  <tbody>\n",
       "    <tr>\n",
       "      <th>0</th>\n",
       "      <td>product_review_000000</td>\n",
       "      <td>guitars look new.</td>\n",
       "      <td>False</td>\n",
       "      <td>5</td>\n",
       "      <td>musical_instruments</td>\n",
       "      <td>NaN</td>\n",
       "      <td>NaN</td>\n",
       "      <td>NaN</td>\n",
       "      <td>NaN</td>\n",
       "      <td>NaN</td>\n",
       "      <td>NaN</td>\n",
       "      <td>NaN</td>\n",
       "    </tr>\n",
       "    <tr>\n",
       "      <th>1</th>\n",
       "      <td>product_review_000001</td>\n",
       "      <td>I'd heard this game had crude humor, but man i...</td>\n",
       "      <td>True</td>\n",
       "      <td>4</td>\n",
       "      <td>video_games</td>\n",
       "      <td>NaN</td>\n",
       "      <td>NaN</td>\n",
       "      <td>NaN</td>\n",
       "      <td>NaN</td>\n",
       "      <td>NaN</td>\n",
       "      <td>NaN</td>\n",
       "      <td>NaN</td>\n",
       "    </tr>\n",
       "    <tr>\n",
       "      <th>2</th>\n",
       "      <td>product_review_000002</td>\n",
       "      <td>It's a decent game but nothing nearly as good ...</td>\n",
       "      <td>True</td>\n",
       "      <td>4</td>\n",
       "      <td>video_games</td>\n",
       "      <td>NaN</td>\n",
       "      <td>NaN</td>\n",
       "      <td>NaN</td>\n",
       "      <td>NaN</td>\n",
       "      <td>NaN</td>\n",
       "      <td>NaN</td>\n",
       "      <td>NaN</td>\n",
       "    </tr>\n",
       "    <tr>\n",
       "      <th>3</th>\n",
       "      <td>product_review_000003</td>\n",
       "      <td>This device worked exceptionally well for my X...</td>\n",
       "      <td>False</td>\n",
       "      <td>5</td>\n",
       "      <td>video_games</td>\n",
       "      <td>NaN</td>\n",
       "      <td>NaN</td>\n",
       "      <td>NaN</td>\n",
       "      <td>NaN</td>\n",
       "      <td>NaN</td>\n",
       "      <td>NaN</td>\n",
       "      <td>NaN</td>\n",
       "    </tr>\n",
       "    <tr>\n",
       "      <th>4</th>\n",
       "      <td>product_review_000004</td>\n",
       "      <td>great racing game, with a lot of cool cars to ...</td>\n",
       "      <td>True</td>\n",
       "      <td>4</td>\n",
       "      <td>video_games</td>\n",
       "      <td>NaN</td>\n",
       "      <td>NaN</td>\n",
       "      <td>NaN</td>\n",
       "      <td>NaN</td>\n",
       "      <td>NaN</td>\n",
       "      <td>NaN</td>\n",
       "      <td>NaN</td>\n",
       "    </tr>\n",
       "  </tbody>\n",
       "</table>\n",
       "</div>"
      ],
      "text/plain": [
       "               review_id                                               text  \\\n",
       "0  product_review_000000                                 guitars look new.    \n",
       "1  product_review_000001  I'd heard this game had crude humor, but man i...   \n",
       "2  product_review_000002  It's a decent game but nothing nearly as good ...   \n",
       "3  product_review_000003  This device worked exceptionally well for my X...   \n",
       "4  product_review_000004  great racing game, with a lot of cool cars to ...   \n",
       "\n",
       "  verified review_score     product_category Unnamed: 5 Unnamed: 6 Unnamed: 7  \\\n",
       "0    False            5  musical_instruments        NaN        NaN        NaN   \n",
       "1     True            4          video_games        NaN        NaN        NaN   \n",
       "2     True            4          video_games        NaN        NaN        NaN   \n",
       "3    False            5          video_games        NaN        NaN        NaN   \n",
       "4     True            4          video_games        NaN        NaN        NaN   \n",
       "\n",
       "  Unnamed: 8 Unnamed: 9  Unnamed: 10 Unnamed: 11  \n",
       "0        NaN        NaN          NaN         NaN  \n",
       "1        NaN        NaN          NaN         NaN  \n",
       "2        NaN        NaN          NaN         NaN  \n",
       "3        NaN        NaN          NaN         NaN  \n",
       "4        NaN        NaN          NaN         NaN  "
      ]
     },
     "execution_count": 3,
     "metadata": {},
     "output_type": "execute_result"
    }
   ],
   "source": [
    "# print top 5 row\n",
    "df.head()"
   ]
  },
  {
   "cell_type": "code",
   "execution_count": 4,
   "id": "9debd458",
   "metadata": {},
   "outputs": [],
   "source": [
    "# drop extra columns\n",
    "df.drop(df.columns[5:],inplace=True,axis=1)"
   ]
  },
  {
   "cell_type": "code",
   "execution_count": 5,
   "id": "b12cc9c6",
   "metadata": {},
   "outputs": [
    {
     "data": {
      "text/plain": [
       "(32918, 5)"
      ]
     },
     "execution_count": 5,
     "metadata": {},
     "output_type": "execute_result"
    }
   ],
   "source": [
    "# print the shape of the data\n",
    "df.shape"
   ]
  },
  {
   "cell_type": "code",
   "execution_count": 6,
   "id": "c0311058",
   "metadata": {},
   "outputs": [
    {
     "data": {
      "text/plain": [
       "review_id             0\n",
       "text                 12\n",
       "verified            104\n",
       "review_score          1\n",
       "product_category    903\n",
       "dtype: int64"
      ]
     },
     "execution_count": 6,
     "metadata": {},
     "output_type": "execute_result"
    }
   ],
   "source": [
    "# check Nan values in the data\n",
    "df.isnull().sum()"
   ]
  },
  {
   "cell_type": "code",
   "execution_count": 7,
   "id": "01ad9f9c",
   "metadata": {},
   "outputs": [],
   "source": [
    "# drop nan values\n",
    "df.dropna(inplace=True)"
   ]
  },
  {
   "cell_type": "code",
   "execution_count": 8,
   "id": "a17eae2f",
   "metadata": {},
   "outputs": [
    {
     "data": {
      "text/plain": [
       "review_id           0\n",
       "text                0\n",
       "verified            0\n",
       "review_score        0\n",
       "product_category    0\n",
       "dtype: int64"
      ]
     },
     "execution_count": 8,
     "metadata": {},
     "output_type": "execute_result"
    }
   ],
   "source": [
    "# check Nan values in the data\n",
    "# new all empty values removed\n",
    "df.isnull().sum()"
   ]
  },
  {
   "cell_type": "code",
   "execution_count": 9,
   "id": "6d134223",
   "metadata": {},
   "outputs": [
    {
     "data": {
      "text/plain": [
       "(31900, 5)"
      ]
     },
     "execution_count": 9,
     "metadata": {},
     "output_type": "execute_result"
    }
   ],
   "source": [
    "df.shape"
   ]
  },
  {
   "cell_type": "code",
   "execution_count": 10,
   "id": "40ee1af1",
   "metadata": {},
   "outputs": [
    {
     "data": {
      "text/html": [
       "<div>\n",
       "<style scoped>\n",
       "    .dataframe tbody tr th:only-of-type {\n",
       "        vertical-align: middle;\n",
       "    }\n",
       "\n",
       "    .dataframe tbody tr th {\n",
       "        vertical-align: top;\n",
       "    }\n",
       "\n",
       "    .dataframe thead th {\n",
       "        text-align: right;\n",
       "    }\n",
       "</style>\n",
       "<table border=\"1\" class=\"dataframe\">\n",
       "  <thead>\n",
       "    <tr style=\"text-align: right;\">\n",
       "      <th></th>\n",
       "      <th>review_id</th>\n",
       "      <th>text</th>\n",
       "      <th>verified</th>\n",
       "      <th>review_score</th>\n",
       "      <th>product_category</th>\n",
       "    </tr>\n",
       "  </thead>\n",
       "  <tbody>\n",
       "    <tr>\n",
       "      <th>0</th>\n",
       "      <td>product_review_000000</td>\n",
       "      <td>guitars look new.</td>\n",
       "      <td>False</td>\n",
       "      <td>5</td>\n",
       "      <td>musical_instruments</td>\n",
       "    </tr>\n",
       "    <tr>\n",
       "      <th>1</th>\n",
       "      <td>product_review_000001</td>\n",
       "      <td>I'd heard this game had crude humor, but man i...</td>\n",
       "      <td>True</td>\n",
       "      <td>4</td>\n",
       "      <td>video_games</td>\n",
       "    </tr>\n",
       "    <tr>\n",
       "      <th>2</th>\n",
       "      <td>product_review_000002</td>\n",
       "      <td>It's a decent game but nothing nearly as good ...</td>\n",
       "      <td>True</td>\n",
       "      <td>4</td>\n",
       "      <td>video_games</td>\n",
       "    </tr>\n",
       "    <tr>\n",
       "      <th>3</th>\n",
       "      <td>product_review_000003</td>\n",
       "      <td>This device worked exceptionally well for my X...</td>\n",
       "      <td>False</td>\n",
       "      <td>5</td>\n",
       "      <td>video_games</td>\n",
       "    </tr>\n",
       "    <tr>\n",
       "      <th>4</th>\n",
       "      <td>product_review_000004</td>\n",
       "      <td>great racing game, with a lot of cool cars to ...</td>\n",
       "      <td>True</td>\n",
       "      <td>4</td>\n",
       "      <td>video_games</td>\n",
       "    </tr>\n",
       "  </tbody>\n",
       "</table>\n",
       "</div>"
      ],
      "text/plain": [
       "               review_id                                               text  \\\n",
       "0  product_review_000000                                 guitars look new.    \n",
       "1  product_review_000001  I'd heard this game had crude humor, but man i...   \n",
       "2  product_review_000002  It's a decent game but nothing nearly as good ...   \n",
       "3  product_review_000003  This device worked exceptionally well for my X...   \n",
       "4  product_review_000004  great racing game, with a lot of cool cars to ...   \n",
       "\n",
       "  verified review_score     product_category  \n",
       "0    False            5  musical_instruments  \n",
       "1     True            4          video_games  \n",
       "2     True            4          video_games  \n",
       "3    False            5          video_games  \n",
       "4     True            4          video_games  "
      ]
     },
     "execution_count": 10,
     "metadata": {},
     "output_type": "execute_result"
    }
   ],
   "source": [
    "df.head()"
   ]
  },
  {
   "cell_type": "code",
   "execution_count": 11,
   "id": "a5b34f46",
   "metadata": {},
   "outputs": [
    {
     "data": {
      "text/html": [
       "<div>\n",
       "<style scoped>\n",
       "    .dataframe tbody tr th:only-of-type {\n",
       "        vertical-align: middle;\n",
       "    }\n",
       "\n",
       "    .dataframe tbody tr th {\n",
       "        vertical-align: top;\n",
       "    }\n",
       "\n",
       "    .dataframe thead th {\n",
       "        text-align: right;\n",
       "    }\n",
       "</style>\n",
       "<table border=\"1\" class=\"dataframe\">\n",
       "  <thead>\n",
       "    <tr style=\"text-align: right;\">\n",
       "      <th></th>\n",
       "      <th>review_id</th>\n",
       "      <th>text</th>\n",
       "      <th>verified</th>\n",
       "      <th>review_score</th>\n",
       "      <th>product_category</th>\n",
       "    </tr>\n",
       "  </thead>\n",
       "  <tbody>\n",
       "    <tr>\n",
       "      <th>32913</th>\n",
       "      <td>product_review_032913</td>\n",
       "      <td>OVERALL: This game is a must-buy by all standa...</td>\n",
       "      <td>False</td>\n",
       "      <td>5</td>\n",
       "      <td>video_games</td>\n",
       "    </tr>\n",
       "    <tr>\n",
       "      <th>32914</th>\n",
       "      <td>product_review_032914</td>\n",
       "      <td>I must say that I have all but given up on Son...</td>\n",
       "      <td>True</td>\n",
       "      <td>4</td>\n",
       "      <td>video_games</td>\n",
       "    </tr>\n",
       "    <tr>\n",
       "      <th>32915</th>\n",
       "      <td>product_review_032915</td>\n",
       "      <td>After considering various options for my 1976 ...</td>\n",
       "      <td>True</td>\n",
       "      <td>5</td>\n",
       "      <td>musical_instruments</td>\n",
       "    </tr>\n",
       "    <tr>\n",
       "      <th>32916</th>\n",
       "      <td>product_review_032916</td>\n",
       "      <td>We have had this for 1 day. But the charger it...</td>\n",
       "      <td>True</td>\n",
       "      <td>4</td>\n",
       "      <td>video_games</td>\n",
       "    </tr>\n",
       "    <tr>\n",
       "      <th>32917</th>\n",
       "      <td>product_review_032917</td>\n",
       "      <td>Easy to work with and sounds good.. Good price...</td>\n",
       "      <td>True</td>\n",
       "      <td>4</td>\n",
       "      <td>musical_instruments</td>\n",
       "    </tr>\n",
       "  </tbody>\n",
       "</table>\n",
       "</div>"
      ],
      "text/plain": [
       "                   review_id  \\\n",
       "32913  product_review_032913   \n",
       "32914  product_review_032914   \n",
       "32915  product_review_032915   \n",
       "32916  product_review_032916   \n",
       "32917  product_review_032917   \n",
       "\n",
       "                                                    text verified  \\\n",
       "32913  OVERALL: This game is a must-buy by all standa...    False   \n",
       "32914  I must say that I have all but given up on Son...     True   \n",
       "32915  After considering various options for my 1976 ...     True   \n",
       "32916  We have had this for 1 day. But the charger it...     True   \n",
       "32917  Easy to work with and sounds good.. Good price...     True   \n",
       "\n",
       "      review_score     product_category  \n",
       "32913            5          video_games  \n",
       "32914            4          video_games  \n",
       "32915            5  musical_instruments  \n",
       "32916            4          video_games  \n",
       "32917            4  musical_instruments  "
      ]
     },
     "execution_count": 11,
     "metadata": {},
     "output_type": "execute_result"
    }
   ],
   "source": [
    "df.tail()"
   ]
  },
  {
   "cell_type": "code",
   "execution_count": 12,
   "id": "7c2f5046",
   "metadata": {},
   "outputs": [
    {
     "name": "stdout",
     "output_type": "stream",
     "text": [
      "<class 'pandas.core.frame.DataFrame'>\n",
      "Int64Index: 31900 entries, 0 to 32917\n",
      "Data columns (total 5 columns):\n",
      " #   Column            Non-Null Count  Dtype \n",
      "---  ------            --------------  ----- \n",
      " 0   review_id         31900 non-null  object\n",
      " 1   text              31900 non-null  object\n",
      " 2   verified          31900 non-null  object\n",
      " 3   review_score      31900 non-null  object\n",
      " 4   product_category  31900 non-null  object\n",
      "dtypes: object(5)\n",
      "memory usage: 1.5+ MB\n"
     ]
    }
   ],
   "source": [
    "# information about the columns\n",
    "df.info()"
   ]
  },
  {
   "cell_type": "code",
   "execution_count": 13,
   "id": "d8a3a40e",
   "metadata": {},
   "outputs": [
    {
     "data": {
      "text/plain": [
       "5                                                                                                                                         18586\n",
       "4                                                                                                                                          5976\n",
       "3                                                                                                                                          3048\n",
       "1                                                                                                                                          1805\n",
       "2                                                                                                                                          1495\n",
       "-1                                                                                                                                          904\n",
       "True                                                                                                                                         66\n",
       "False                                                                                                                                         6\n",
       " but none the less they're fun to collect!. but none the less they're fun to collect                                                          2\n",
       ".                                                                                                                                             1\n",
       " ))                                                                                                                                           1\n",
       " Beautifully Simple design                                                                                                                    1\n",
       " this is as good if not better then FIFA. excellent choice                                                                                    1\n",
       " QUALITY 95%...                                                                                                                               1\n",
       " haven't given up just moved on to different games kin the mean time.. but it is an amazing game! The challenge at the rear of the ...        1\n",
       " perfect match for my Yamaha keyboard.. Great appearance                                                                                      1\n",
       " long lasting and so accurate... tuned up in an instant. Tune in!                                                                             1\n",
       "-)                                                                                                                                            1\n",
       " Needs controller interface!                                                                                                                  1\n",
       ". Excelent                                                                                                                                    1\n",
       ")Great                                                                                                                                        1\n",
       "Name: review_score, dtype: int64"
      ]
     },
     "execution_count": 13,
     "metadata": {},
     "output_type": "execute_result"
    }
   ],
   "source": [
    "# check total rating count\n",
    "df['review_score'].value_counts()"
   ]
  },
  {
   "cell_type": "code",
   "execution_count": 14,
   "id": "68fa00be",
   "metadata": {},
   "outputs": [],
   "source": [
    "# remove wrong rating\n",
    "df2 = df[df['review_score'].isin(['0','1','2','3','4','5'])]"
   ]
  },
  {
   "cell_type": "code",
   "execution_count": 15,
   "id": "884feaff",
   "metadata": {},
   "outputs": [],
   "source": [
    "# mask = np.logical_or.reduce([(df['review_score'] == cond) for cond in [-1,0,1,2,3,4,5]])\n",
    "# df2 = df[mask]"
   ]
  },
  {
   "cell_type": "code",
   "execution_count": 16,
   "id": "10874f11",
   "metadata": {},
   "outputs": [
    {
     "data": {
      "text/html": [
       "<div>\n",
       "<style scoped>\n",
       "    .dataframe tbody tr th:only-of-type {\n",
       "        vertical-align: middle;\n",
       "    }\n",
       "\n",
       "    .dataframe tbody tr th {\n",
       "        vertical-align: top;\n",
       "    }\n",
       "\n",
       "    .dataframe thead th {\n",
       "        text-align: right;\n",
       "    }\n",
       "</style>\n",
       "<table border=\"1\" class=\"dataframe\">\n",
       "  <thead>\n",
       "    <tr style=\"text-align: right;\">\n",
       "      <th></th>\n",
       "      <th>review_id</th>\n",
       "      <th>text</th>\n",
       "      <th>verified</th>\n",
       "      <th>review_score</th>\n",
       "      <th>product_category</th>\n",
       "    </tr>\n",
       "  </thead>\n",
       "  <tbody>\n",
       "    <tr>\n",
       "      <th>0</th>\n",
       "      <td>product_review_000000</td>\n",
       "      <td>guitars look new.</td>\n",
       "      <td>False</td>\n",
       "      <td>5</td>\n",
       "      <td>musical_instruments</td>\n",
       "    </tr>\n",
       "    <tr>\n",
       "      <th>1</th>\n",
       "      <td>product_review_000001</td>\n",
       "      <td>I'd heard this game had crude humor, but man i...</td>\n",
       "      <td>True</td>\n",
       "      <td>4</td>\n",
       "      <td>video_games</td>\n",
       "    </tr>\n",
       "    <tr>\n",
       "      <th>2</th>\n",
       "      <td>product_review_000002</td>\n",
       "      <td>It's a decent game but nothing nearly as good ...</td>\n",
       "      <td>True</td>\n",
       "      <td>4</td>\n",
       "      <td>video_games</td>\n",
       "    </tr>\n",
       "    <tr>\n",
       "      <th>3</th>\n",
       "      <td>product_review_000003</td>\n",
       "      <td>This device worked exceptionally well for my X...</td>\n",
       "      <td>False</td>\n",
       "      <td>5</td>\n",
       "      <td>video_games</td>\n",
       "    </tr>\n",
       "    <tr>\n",
       "      <th>4</th>\n",
       "      <td>product_review_000004</td>\n",
       "      <td>great racing game, with a lot of cool cars to ...</td>\n",
       "      <td>True</td>\n",
       "      <td>4</td>\n",
       "      <td>video_games</td>\n",
       "    </tr>\n",
       "    <tr>\n",
       "      <th>...</th>\n",
       "      <td>...</td>\n",
       "      <td>...</td>\n",
       "      <td>...</td>\n",
       "      <td>...</td>\n",
       "      <td>...</td>\n",
       "    </tr>\n",
       "    <tr>\n",
       "      <th>32913</th>\n",
       "      <td>product_review_032913</td>\n",
       "      <td>OVERALL: This game is a must-buy by all standa...</td>\n",
       "      <td>False</td>\n",
       "      <td>5</td>\n",
       "      <td>video_games</td>\n",
       "    </tr>\n",
       "    <tr>\n",
       "      <th>32914</th>\n",
       "      <td>product_review_032914</td>\n",
       "      <td>I must say that I have all but given up on Son...</td>\n",
       "      <td>True</td>\n",
       "      <td>4</td>\n",
       "      <td>video_games</td>\n",
       "    </tr>\n",
       "    <tr>\n",
       "      <th>32915</th>\n",
       "      <td>product_review_032915</td>\n",
       "      <td>After considering various options for my 1976 ...</td>\n",
       "      <td>True</td>\n",
       "      <td>5</td>\n",
       "      <td>musical_instruments</td>\n",
       "    </tr>\n",
       "    <tr>\n",
       "      <th>32916</th>\n",
       "      <td>product_review_032916</td>\n",
       "      <td>We have had this for 1 day. But the charger it...</td>\n",
       "      <td>True</td>\n",
       "      <td>4</td>\n",
       "      <td>video_games</td>\n",
       "    </tr>\n",
       "    <tr>\n",
       "      <th>32917</th>\n",
       "      <td>product_review_032917</td>\n",
       "      <td>Easy to work with and sounds good.. Good price...</td>\n",
       "      <td>True</td>\n",
       "      <td>4</td>\n",
       "      <td>musical_instruments</td>\n",
       "    </tr>\n",
       "  </tbody>\n",
       "</table>\n",
       "<p>30910 rows × 5 columns</p>\n",
       "</div>"
      ],
      "text/plain": [
       "                   review_id  \\\n",
       "0      product_review_000000   \n",
       "1      product_review_000001   \n",
       "2      product_review_000002   \n",
       "3      product_review_000003   \n",
       "4      product_review_000004   \n",
       "...                      ...   \n",
       "32913  product_review_032913   \n",
       "32914  product_review_032914   \n",
       "32915  product_review_032915   \n",
       "32916  product_review_032916   \n",
       "32917  product_review_032917   \n",
       "\n",
       "                                                    text verified  \\\n",
       "0                                     guitars look new.     False   \n",
       "1      I'd heard this game had crude humor, but man i...     True   \n",
       "2      It's a decent game but nothing nearly as good ...     True   \n",
       "3      This device worked exceptionally well for my X...    False   \n",
       "4      great racing game, with a lot of cool cars to ...     True   \n",
       "...                                                  ...      ...   \n",
       "32913  OVERALL: This game is a must-buy by all standa...    False   \n",
       "32914  I must say that I have all but given up on Son...     True   \n",
       "32915  After considering various options for my 1976 ...     True   \n",
       "32916  We have had this for 1 day. But the charger it...     True   \n",
       "32917  Easy to work with and sounds good.. Good price...     True   \n",
       "\n",
       "      review_score     product_category  \n",
       "0                5  musical_instruments  \n",
       "1                4          video_games  \n",
       "2                4          video_games  \n",
       "3                5          video_games  \n",
       "4                4          video_games  \n",
       "...            ...                  ...  \n",
       "32913            5          video_games  \n",
       "32914            4          video_games  \n",
       "32915            5  musical_instruments  \n",
       "32916            4          video_games  \n",
       "32917            4  musical_instruments  \n",
       "\n",
       "[30910 rows x 5 columns]"
      ]
     },
     "execution_count": 16,
     "metadata": {},
     "output_type": "execute_result"
    }
   ],
   "source": [
    "df2"
   ]
  },
  {
   "cell_type": "code",
   "execution_count": 17,
   "id": "b564533d",
   "metadata": {},
   "outputs": [
    {
     "data": {
      "text/plain": [
       "5    18586\n",
       "4     5976\n",
       "3     3048\n",
       "1     1805\n",
       "2     1495\n",
       "Name: review_score, dtype: int64"
      ]
     },
     "execution_count": 17,
     "metadata": {},
     "output_type": "execute_result"
    }
   ],
   "source": [
    "# check total rating per class\n",
    "# distibutions\n",
    "df2.review_score.value_counts()"
   ]
  },
  {
   "cell_type": "code",
   "execution_count": 18,
   "id": "83942e68",
   "metadata": {},
   "outputs": [
    {
     "data": {
      "text/plain": [
       "<AxesSubplot:xlabel='review_score', ylabel='count'>"
      ]
     },
     "execution_count": 18,
     "metadata": {},
     "output_type": "execute_result"
    },
    {
     "data": {
      "image/png": "[encoded data removed]",
      "text/plain": [
       "<Figure size 432x288 with 1 Axes>"
      ]
     },
     "metadata": {
      "needs_background": "light"
     },
     "output_type": "display_data"
    }
   ],
   "source": [
    "sns.countplot(data=df2,x='review_score')"
   ]
  },
  {
   "cell_type": "code",
   "execution_count": 19,
   "id": "5a197a32",
   "metadata": {},
   "outputs": [
    {
     "data": {
      "text/html": [
       "<div>\n",
       "<style scoped>\n",
       "    .dataframe tbody tr th:only-of-type {\n",
       "        vertical-align: middle;\n",
       "    }\n",
       "\n",
       "    .dataframe tbody tr th {\n",
       "        vertical-align: top;\n",
       "    }\n",
       "\n",
       "    .dataframe thead th {\n",
       "        text-align: right;\n",
       "    }\n",
       "</style>\n",
       "<table border=\"1\" class=\"dataframe\">\n",
       "  <thead>\n",
       "    <tr style=\"text-align: right;\">\n",
       "      <th></th>\n",
       "      <th>review_id</th>\n",
       "      <th>text</th>\n",
       "      <th>verified</th>\n",
       "      <th>review_score</th>\n",
       "      <th>product_category</th>\n",
       "    </tr>\n",
       "  </thead>\n",
       "  <tbody>\n",
       "    <tr>\n",
       "      <th>count</th>\n",
       "      <td>30910</td>\n",
       "      <td>30910</td>\n",
       "      <td>30910</td>\n",
       "      <td>30910</td>\n",
       "      <td>30910</td>\n",
       "    </tr>\n",
       "    <tr>\n",
       "      <th>unique</th>\n",
       "      <td>30910</td>\n",
       "      <td>29979</td>\n",
       "      <td>2</td>\n",
       "      <td>5</td>\n",
       "      <td>2</td>\n",
       "    </tr>\n",
       "    <tr>\n",
       "      <th>top</th>\n",
       "      <td>product_review_000000</td>\n",
       "      <td>perfect!.</td>\n",
       "      <td>True</td>\n",
       "      <td>5</td>\n",
       "      <td>video_games</td>\n",
       "    </tr>\n",
       "    <tr>\n",
       "      <th>freq</th>\n",
       "      <td>1</td>\n",
       "      <td>3</td>\n",
       "      <td>22114</td>\n",
       "      <td>18586</td>\n",
       "      <td>20989</td>\n",
       "    </tr>\n",
       "  </tbody>\n",
       "</table>\n",
       "</div>"
      ],
      "text/plain": [
       "                    review_id        text verified review_score  \\\n",
       "count                   30910       30910    30910        30910   \n",
       "unique                  30910       29979        2            5   \n",
       "top     product_review_000000  perfect!.      True            5   \n",
       "freq                        1           3    22114        18586   \n",
       "\n",
       "       product_category  \n",
       "count             30910  \n",
       "unique                2  \n",
       "top         video_games  \n",
       "freq              20989  "
      ]
     },
     "execution_count": 19,
     "metadata": {},
     "output_type": "execute_result"
    }
   ],
   "source": [
    "df2.describe()"
   ]
  },
  {
   "cell_type": "code",
   "execution_count": 20,
   "id": "bb5fdff7",
   "metadata": {},
   "outputs": [],
   "source": [
    "from sklearn.feature_extraction.text import TfidfVectorizer\n",
    "from nltk.stem.snowball import SnowballStemmer"
   ]
  },
  {
   "cell_type": "code",
   "execution_count": 21,
   "id": "22e229ca",
   "metadata": {},
   "outputs": [],
   "source": [
    "#create a stemmer\n",
    "stemmer = SnowballStemmer(\"english\")"
   ]
  },
  {
   "cell_type": "code",
   "execution_count": 22,
   "id": "f5161908",
   "metadata": {},
   "outputs": [],
   "source": [
    "#define our own tokenizing function that we will pass into the TFIDFVectorizer.\n",
    "def tokens(x):\n",
    "    x = x.split()\n",
    "    stems = []\n",
    "    [stems.append(stemmer.stem(word)) for word in x]\n",
    "    return stems"
   ]
  },
  {
   "cell_type": "code",
   "execution_count": 23,
   "id": "eac1d803",
   "metadata": {},
   "outputs": [
    {
     "name": "stderr",
     "output_type": "stream",
     "text": [
      "/home/basit/anaconda3/lib/python3.9/site-packages/sklearn/feature_extraction/text.py:388: UserWarning: Your stop_words may be inconsistent with your preprocessing. Tokenizing the stop words generated tokens ['abov', 'afterward', 'alon', 'alreadi', 'alway', 'ani', 'anoth', 'anyon', 'anyth', 'anywher', 'becam', 'becaus', 'becom', 'befor', 'besid', 'cri', 'describ', 'dure', 'els', 'elsewher', 'empti', 'everi', 'everyon', 'everyth', 'everywher', 'fifti', 'forti', 'henc', 'hereaft', 'herebi', 'howev', 'hundr', 'inde', 'mani', 'meanwhil', 'moreov', 'nobodi', 'noon', 'noth', 'nowher', 'onc', 'onli', 'otherwis', 'ourselv', 'perhap', 'pleas', 'sever', 'sinc', 'sincer', 'sixti', 'someon', 'someth', 'sometim', 'somewher', 'themselv', 'thenc', 'thereaft', 'therebi', 'therefor', 'togeth', 'twelv', 'twenti', 'veri', 'whatev', 'whenc', 'whenev', 'wherea', 'whereaft', 'wherebi', 'wherev', 'whi', 'yourselv'] not in stop_words.\n",
      "  warnings.warn('Your stop_words may be inconsistent with '\n"
     ]
    }
   ],
   "source": [
    "#define the vectorizer\n",
    "vectorizer = TfidfVectorizer(tokenizer = tokens, stop_words = 'english', ngram_range=(1, 1), min_df = 0.01)\n",
    "#fit the vectorizers to the data.\n",
    "# saperate the features from the dataset\n",
    "features = vectorizer.fit_transform(df2['text'])"
   ]
  },
  {
   "cell_type": "code",
   "execution_count": 24,
   "id": "1b08af5d",
   "metadata": {},
   "outputs": [
    {
     "data": {
      "text/plain": [
       "<1x778 sparse matrix of type '<class 'numpy.float64'>'\n",
       "\twith 2 stored elements in Compressed Sparse Row format>"
      ]
     },
     "execution_count": 24,
     "metadata": {},
     "output_type": "execute_result"
    }
   ],
   "source": [
    "features[0][0]"
   ]
  },
  {
   "cell_type": "code",
   "execution_count": null,
   "id": "ae1e487c",
   "metadata": {},
   "outputs": [],
   "source": []
  },
  {
   "cell_type": "code",
   "execution_count": 25,
   "id": "7f8a7b99",
   "metadata": {},
   "outputs": [],
   "source": [
    "# saperate the target column from teh dataset\n",
    "target=df2.review_score.values"
   ]
  },
  {
   "cell_type": "code",
   "execution_count": 26,
   "id": "f298a170",
   "metadata": {},
   "outputs": [
    {
     "data": {
      "text/plain": [
       "array(['5', '4', '4', ..., '5', '4', '4'], dtype=object)"
      ]
     },
     "execution_count": 26,
     "metadata": {},
     "output_type": "execute_result"
    }
   ],
   "source": [
    "target"
   ]
  },
  {
   "cell_type": "code",
   "execution_count": 27,
   "id": "7f989e34",
   "metadata": {},
   "outputs": [
    {
     "data": {
      "text/plain": [
       "array([5, 4, 4, ..., 5, 4, 4])"
      ]
     },
     "execution_count": 27,
     "metadata": {},
     "output_type": "execute_result"
    }
   ],
   "source": [
    "target.astype(int)"
   ]
  },
  {
   "cell_type": "code",
   "execution_count": 28,
   "id": "8cec9ebc",
   "metadata": {},
   "outputs": [],
   "source": [
    "from sklearn.model_selection import train_test_split,StratifiedKFold, GridSearchCV\n",
    "# split the data into train and test\n",
    "X_train, X_test, y_train, y_test = train_test_split(features,target, test_size=0.2, random_state=42)"
   ]
  },
  {
   "cell_type": "markdown",
   "id": "8e67a47e",
   "metadata": {},
   "source": [
    "# First Model for rating classification (RandomForestClassifier)"
   ]
  },
  {
   "cell_type": "code",
   "execution_count": 29,
   "id": "05ea8879",
   "metadata": {},
   "outputs": [
    {
     "name": "stdout",
     "output_type": "stream",
     "text": [
      "Fitting grid search...\n",
      "Grid search fitted.\n"
     ]
    }
   ],
   "source": [
    "from sklearn.metrics import roc_auc_score, roc_curve\n",
    "from sklearn.ensemble import RandomForestClassifier\n",
    "from sklearn.metrics import accuracy_score, confusion_matrix, classification_report\n",
    "#make the grid search object\n",
    "gs2 = GridSearchCV(\n",
    "    estimator=RandomForestClassifier(),\n",
    "    param_grid={ \n",
    "    'n_estimators': [200]\n",
    "},\n",
    "    cv=StratifiedKFold(n_splits=5),\n",
    "    \n",
    ")\n",
    "\n",
    "#fit the grid search object to our new dataset\n",
    "print ('Fitting grid search...')\n",
    "gs2.fit(X_train, y_train)\n",
    "print (\"Grid search fitted.\")"
   ]
  },
  {
   "cell_type": "code",
   "execution_count": 30,
   "id": "41619e41",
   "metadata": {},
   "outputs": [],
   "source": [
    "# Make predictions for the test set\n",
    "y_pred_test = gs2.predict(X_test)"
   ]
  },
  {
   "cell_type": "code",
   "execution_count": 31,
   "id": "20093288",
   "metadata": {},
   "outputs": [
    {
     "data": {
      "text/plain": [
       "0.6404076350695568"
      ]
     },
     "execution_count": 31,
     "metadata": {},
     "output_type": "execute_result"
    }
   ],
   "source": [
    "# View accuracy score\n",
    "accuracy_score(y_test, y_pred_test)"
   ]
  },
  {
   "cell_type": "code",
   "execution_count": 32,
   "id": "632a4188",
   "metadata": {},
   "outputs": [
    {
     "data": {
      "text/plain": [
       "array([[  76,    2,   11,   19,  291],\n",
       "       [  11,   16,    7,   36,  225],\n",
       "       [   5,    2,   56,   94,  428],\n",
       "       [   5,    2,    7,  187,  957],\n",
       "       [   9,    4,   22,   86, 3624]])"
      ]
     },
     "execution_count": 32,
     "metadata": {},
     "output_type": "execute_result"
    }
   ],
   "source": [
    "# View confusion matrix for test data and predictions\n",
    "confusion_matrix(y_test, y_pred_test)"
   ]
  },
  {
   "cell_type": "code",
   "execution_count": 33,
   "id": "4ab9e6f1",
   "metadata": {},
   "outputs": [
    {
     "data": {
      "image/png": "[encoded data removed]",
      "text/plain": [
       "<Figure size 1152x504 with 2 Axes>"
      ]
     },
     "metadata": {
      "needs_background": "light"
     },
     "output_type": "display_data"
    }
   ],
   "source": [
    "# Get and reshape confusion matrix data\n",
    "matrix = confusion_matrix(y_test, y_pred_test)\n",
    "matrix = matrix.astype('float') / matrix.sum(axis=1)[:, np.newaxis]\n",
    "\n",
    "# Build the plot\n",
    "plt.figure(figsize=(16,7))\n",
    "sns.set(font_scale=1.4)\n",
    "sns.heatmap(matrix, annot=True, annot_kws={'size':10},\n",
    "            cmap=plt.cm.Greens, linewidths=0.2)\n",
    "\n",
    "# Add labels to the plot\n",
    "class_names = ['0','1','2','3','4','5']\n",
    "tick_marks = np.arange(len(class_names))\n",
    "tick_marks2 = tick_marks + 0.5\n",
    "plt.xticks(tick_marks, class_names, rotation=25)\n",
    "plt.yticks(tick_marks2, class_names, rotation=0)\n",
    "plt.xlabel('Predicted label')\n",
    "plt.ylabel('True label')\n",
    "plt.title('Confusion Matrix for Random Forest Model')\n",
    "plt.show()"
   ]
  },
  {
   "cell_type": "code",
   "execution_count": 34,
   "id": "965edf0e",
   "metadata": {},
   "outputs": [
    {
     "name": "stdout",
     "output_type": "stream",
     "text": [
      "              precision    recall  f1-score   support\n",
      "\n",
      "           1       0.72      0.19      0.30       399\n",
      "           2       0.62      0.05      0.10       295\n",
      "           3       0.54      0.10      0.16       585\n",
      "           4       0.44      0.16      0.24      1158\n",
      "           5       0.66      0.97      0.78      3745\n",
      "\n",
      "    accuracy                           0.64      6182\n",
      "   macro avg       0.60      0.29      0.32      6182\n",
      "weighted avg       0.61      0.64      0.56      6182\n",
      "\n"
     ]
    }
   ],
   "source": [
    "# View the classification report for test data and predictions\n",
    "print(classification_report(y_test, y_pred_test))"
   ]
  },
  {
   "cell_type": "markdown",
   "id": "102e4f10",
   "metadata": {},
   "source": [
    "# Second Model for rating classification (LogisticRegression)"
   ]
  },
  {
   "cell_type": "code",
   "execution_count": 35,
   "id": "666497c9",
   "metadata": {},
   "outputs": [
    {
     "name": "stdout",
     "output_type": "stream",
     "text": [
      "Fitting grid search...\n",
      "Grid search fitted.\n"
     ]
    }
   ],
   "source": [
    "from sklearn.linear_model import LogisticRegression\n",
    "gs2 = GridSearchCV(\n",
    "    estimator=LogisticRegression(solver='lbfgs', max_iter=1000),\n",
    "    cv=StratifiedKFold(n_splits=5),\n",
    "    param_grid={'class_weight': [None, 'balanced']},\n",
    ")\n",
    "\n",
    "#fit the grid search object to our new dataset\n",
    "print ('Fitting grid search...')\n",
    "gs2.fit(X_train, y_train)\n",
    "print (\"Grid search fitted.\")"
   ]
  },
  {
   "cell_type": "code",
   "execution_count": 36,
   "id": "5c62f3a4",
   "metadata": {},
   "outputs": [],
   "source": [
    "# Make predictions for the test set\n",
    "y_pred_test = gs2.predict(X_test)"
   ]
  },
  {
   "cell_type": "code",
   "execution_count": 37,
   "id": "863742cc",
   "metadata": {},
   "outputs": [
    {
     "data": {
      "text/plain": [
       "0.6525396311873181"
      ]
     },
     "execution_count": 37,
     "metadata": {},
     "output_type": "execute_result"
    }
   ],
   "source": [
    "# View accuracy score\n",
    "accuracy_score(y_test, y_pred_test)"
   ]
  },
  {
   "cell_type": "code",
   "execution_count": 38,
   "id": "9422343d",
   "metadata": {},
   "outputs": [
    {
     "data": {
      "text/plain": [
       "array([[ 135,   32,   36,   23,  173],\n",
       "       [  33,   36,   51,   40,  135],\n",
       "       [  17,   14,  113,  153,  288],\n",
       "       [   9,   10,   56,  256,  827],\n",
       "       [  19,    6,   49,  177, 3494]])"
      ]
     },
     "execution_count": 38,
     "metadata": {},
     "output_type": "execute_result"
    }
   ],
   "source": [
    "# View confusion matrix for test data and predictions\n",
    "confusion_matrix(y_test, y_pred_test)"
   ]
  },
  {
   "cell_type": "code",
   "execution_count": 39,
   "id": "2ac7e078",
   "metadata": {},
   "outputs": [
    {
     "data": {
      "image/png": "[encoded data removed]",
      "text/plain": [
       "<Figure size 1152x504 with 2 Axes>"
      ]
     },
     "metadata": {},
     "output_type": "display_data"
    }
   ],
   "source": [
    "# Get and reshape confusion matrix data\n",
    "matrix = confusion_matrix(y_test, y_pred_test)\n",
    "matrix = matrix.astype('float') / matrix.sum(axis=1)[:, np.newaxis]\n",
    "\n",
    "# Build the plot\n",
    "plt.figure(figsize=(16,7))\n",
    "sns.set(font_scale=1.4)\n",
    "sns.heatmap(matrix, annot=True, annot_kws={'size':10},\n",
    "            cmap=plt.cm.Greens, linewidths=0.2)\n",
    "\n",
    "# Add labels to the plot\n",
    "class_names = ['0','1','2','3','4','5']\n",
    "tick_marks = np.arange(len(class_names))\n",
    "tick_marks2 = tick_marks + 0.5\n",
    "plt.xticks(tick_marks, class_names, rotation=25)\n",
    "plt.yticks(tick_marks2, class_names, rotation=0)\n",
    "plt.xlabel('Predicted label')\n",
    "plt.ylabel('True label')\n",
    "plt.title('Confusion Matrix for Random Forest Model')\n",
    "plt.show()"
   ]
  },
  {
   "cell_type": "markdown",
   "id": "b88b5a23",
   "metadata": {},
   "source": [
    "# Whether a product is from the category “Video Games” (“video_games”) or “Musical Instrument” (“musical_instrument”)."
   ]
  },
  {
   "cell_type": "code",
   "execution_count": 40,
   "id": "b2e40ba7",
   "metadata": {},
   "outputs": [
    {
     "data": {
      "text/html": [
       "<div>\n",
       "<style scoped>\n",
       "    .dataframe tbody tr th:only-of-type {\n",
       "        vertical-align: middle;\n",
       "    }\n",
       "\n",
       "    .dataframe tbody tr th {\n",
       "        vertical-align: top;\n",
       "    }\n",
       "\n",
       "    .dataframe thead th {\n",
       "        text-align: right;\n",
       "    }\n",
       "</style>\n",
       "<table border=\"1\" class=\"dataframe\">\n",
       "  <thead>\n",
       "    <tr style=\"text-align: right;\">\n",
       "      <th></th>\n",
       "      <th>review_id</th>\n",
       "      <th>text</th>\n",
       "      <th>verified</th>\n",
       "      <th>review_score</th>\n",
       "      <th>product_category</th>\n",
       "    </tr>\n",
       "  </thead>\n",
       "  <tbody>\n",
       "    <tr>\n",
       "      <th>0</th>\n",
       "      <td>product_review_000000</td>\n",
       "      <td>guitars look new.</td>\n",
       "      <td>False</td>\n",
       "      <td>5</td>\n",
       "      <td>musical_instruments</td>\n",
       "    </tr>\n",
       "    <tr>\n",
       "      <th>1</th>\n",
       "      <td>product_review_000001</td>\n",
       "      <td>I'd heard this game had crude humor, but man i...</td>\n",
       "      <td>True</td>\n",
       "      <td>4</td>\n",
       "      <td>video_games</td>\n",
       "    </tr>\n",
       "    <tr>\n",
       "      <th>2</th>\n",
       "      <td>product_review_000002</td>\n",
       "      <td>It's a decent game but nothing nearly as good ...</td>\n",
       "      <td>True</td>\n",
       "      <td>4</td>\n",
       "      <td>video_games</td>\n",
       "    </tr>\n",
       "    <tr>\n",
       "      <th>3</th>\n",
       "      <td>product_review_000003</td>\n",
       "      <td>This device worked exceptionally well for my X...</td>\n",
       "      <td>False</td>\n",
       "      <td>5</td>\n",
       "      <td>video_games</td>\n",
       "    </tr>\n",
       "    <tr>\n",
       "      <th>4</th>\n",
       "      <td>product_review_000004</td>\n",
       "      <td>great racing game, with a lot of cool cars to ...</td>\n",
       "      <td>True</td>\n",
       "      <td>4</td>\n",
       "      <td>video_games</td>\n",
       "    </tr>\n",
       "  </tbody>\n",
       "</table>\n",
       "</div>"
      ],
      "text/plain": [
       "               review_id                                               text  \\\n",
       "0  product_review_000000                                 guitars look new.    \n",
       "1  product_review_000001  I'd heard this game had crude humor, but man i...   \n",
       "2  product_review_000002  It's a decent game but nothing nearly as good ...   \n",
       "3  product_review_000003  This device worked exceptionally well for my X...   \n",
       "4  product_review_000004  great racing game, with a lot of cool cars to ...   \n",
       "\n",
       "  verified review_score     product_category  \n",
       "0    False            5  musical_instruments  \n",
       "1     True            4          video_games  \n",
       "2     True            4          video_games  \n",
       "3    False            5          video_games  \n",
       "4     True            4          video_games  "
      ]
     },
     "execution_count": 40,
     "metadata": {},
     "output_type": "execute_result"
    }
   ],
   "source": [
    "df2.head()"
   ]
  },
  {
   "cell_type": "code",
   "execution_count": 41,
   "id": "15e4e70e",
   "metadata": {},
   "outputs": [
    {
     "data": {
      "text/plain": [
       "<AxesSubplot:xlabel='product_category', ylabel='count'>"
      ]
     },
     "execution_count": 41,
     "metadata": {},
     "output_type": "execute_result"
    },
    {
     "data": {
      "image/png": "[encoded data removed]",
      "text/plain": [
       "<Figure size 432x288 with 1 Axes>"
      ]
     },
     "metadata": {},
     "output_type": "display_data"
    }
   ],
   "source": [
    "sns.countplot(data=df2,x='product_category')"
   ]
  },
  {
   "cell_type": "code",
   "execution_count": 42,
   "id": "caab398b",
   "metadata": {},
   "outputs": [
    {
     "data": {
      "text/plain": [
       "review_id           0\n",
       "text                0\n",
       "verified            0\n",
       "review_score        0\n",
       "product_category    0\n",
       "dtype: int64"
      ]
     },
     "execution_count": 42,
     "metadata": {},
     "output_type": "execute_result"
    }
   ],
   "source": [
    "df2.isnull().sum()"
   ]
  },
  {
   "cell_type": "code",
   "execution_count": 43,
   "id": "b34b4fb0",
   "metadata": {},
   "outputs": [],
   "source": [
    "# change Categorical to numerical data\n",
    "from sklearn.preprocessing import LabelEncoder\n"
   ]
  },
  {
   "cell_type": "code",
   "execution_count": 44,
   "id": "739df690",
   "metadata": {},
   "outputs": [],
   "source": [
    "lebel=LabelEncoder()"
   ]
  },
  {
   "cell_type": "code",
   "execution_count": 45,
   "id": "67cbfd29",
   "metadata": {},
   "outputs": [
    {
     "name": "stderr",
     "output_type": "stream",
     "text": [
      "/tmp/ipykernel_2812/167888033.py:3: SettingWithCopyWarning: \n",
      "A value is trying to be set on a copy of a slice from a DataFrame.\n",
      "Try using .loc[row_indexer,col_indexer] = value instead\n",
      "\n",
      "See the caveats in the documentation: https://pandas.pydata.org/pandas-docs/stable/user_guide/indexing.html#returning-a-view-versus-a-copy\n",
      "  df2['product_category']=lebel.fit_transform(df2.product_category.values)\n"
     ]
    }
   ],
   "source": [
    "# convert musical_instruments to 0\n",
    "# convert video_games to 1\n",
    "df2['product_category']=lebel.fit_transform(df2.product_category.values)"
   ]
  },
  {
   "cell_type": "code",
   "execution_count": 46,
   "id": "25d9d754",
   "metadata": {},
   "outputs": [
    {
     "data": {
      "text/html": [
       "<div>\n",
       "<style scoped>\n",
       "    .dataframe tbody tr th:only-of-type {\n",
       "        vertical-align: middle;\n",
       "    }\n",
       "\n",
       "    .dataframe tbody tr th {\n",
       "        vertical-align: top;\n",
       "    }\n",
       "\n",
       "    .dataframe thead th {\n",
       "        text-align: right;\n",
       "    }\n",
       "</style>\n",
       "<table border=\"1\" class=\"dataframe\">\n",
       "  <thead>\n",
       "    <tr style=\"text-align: right;\">\n",
       "      <th></th>\n",
       "      <th>review_id</th>\n",
       "      <th>text</th>\n",
       "      <th>verified</th>\n",
       "      <th>review_score</th>\n",
       "      <th>product_category</th>\n",
       "    </tr>\n",
       "  </thead>\n",
       "  <tbody>\n",
       "    <tr>\n",
       "      <th>0</th>\n",
       "      <td>product_review_000000</td>\n",
       "      <td>guitars look new.</td>\n",
       "      <td>False</td>\n",
       "      <td>5</td>\n",
       "      <td>0</td>\n",
       "    </tr>\n",
       "    <tr>\n",
       "      <th>1</th>\n",
       "      <td>product_review_000001</td>\n",
       "      <td>I'd heard this game had crude humor, but man i...</td>\n",
       "      <td>True</td>\n",
       "      <td>4</td>\n",
       "      <td>1</td>\n",
       "    </tr>\n",
       "    <tr>\n",
       "      <th>2</th>\n",
       "      <td>product_review_000002</td>\n",
       "      <td>It's a decent game but nothing nearly as good ...</td>\n",
       "      <td>True</td>\n",
       "      <td>4</td>\n",
       "      <td>1</td>\n",
       "    </tr>\n",
       "    <tr>\n",
       "      <th>3</th>\n",
       "      <td>product_review_000003</td>\n",
       "      <td>This device worked exceptionally well for my X...</td>\n",
       "      <td>False</td>\n",
       "      <td>5</td>\n",
       "      <td>1</td>\n",
       "    </tr>\n",
       "    <tr>\n",
       "      <th>4</th>\n",
       "      <td>product_review_000004</td>\n",
       "      <td>great racing game, with a lot of cool cars to ...</td>\n",
       "      <td>True</td>\n",
       "      <td>4</td>\n",
       "      <td>1</td>\n",
       "    </tr>\n",
       "  </tbody>\n",
       "</table>\n",
       "</div>"
      ],
      "text/plain": [
       "               review_id                                               text  \\\n",
       "0  product_review_000000                                 guitars look new.    \n",
       "1  product_review_000001  I'd heard this game had crude humor, but man i...   \n",
       "2  product_review_000002  It's a decent game but nothing nearly as good ...   \n",
       "3  product_review_000003  This device worked exceptionally well for my X...   \n",
       "4  product_review_000004  great racing game, with a lot of cool cars to ...   \n",
       "\n",
       "  verified review_score  product_category  \n",
       "0    False            5                 0  \n",
       "1     True            4                 1  \n",
       "2     True            4                 1  \n",
       "3    False            5                 1  \n",
       "4     True            4                 1  "
      ]
     },
     "execution_count": 46,
     "metadata": {},
     "output_type": "execute_result"
    }
   ],
   "source": [
    "df2.head()"
   ]
  },
  {
   "cell_type": "code",
   "execution_count": 47,
   "id": "9854e695",
   "metadata": {},
   "outputs": [],
   "source": [
    "X_train, X_test, y_train, y_test = train_test_split(features,df2.product_category.values, test_size=0.2, random_state=42)"
   ]
  },
  {
   "cell_type": "markdown",
   "id": "524f1f23",
   "metadata": {},
   "source": [
    "#  First Model for Category classification (RandomForestClassifier)"
   ]
  },
  {
   "cell_type": "code",
   "execution_count": 48,
   "id": "953ef31d",
   "metadata": {},
   "outputs": [
    {
     "name": "stdout",
     "output_type": "stream",
     "text": [
      "Fitting grid search...\n",
      "Grid search fitted.\n"
     ]
    }
   ],
   "source": [
    "#make the grid search object\n",
    "gs2 = GridSearchCV(\n",
    "    estimator=RandomForestClassifier(),\n",
    "    param_grid={ \n",
    "    'n_estimators': [200]\n",
    "},\n",
    "    cv=StratifiedKFold(n_splits=5),\n",
    "    \n",
    ")\n",
    "\n",
    "#fit the grid search object to our new dataset\n",
    "print ('Fitting grid search...')\n",
    "gs2.fit(X_train, y_train)\n",
    "print (\"Grid search fitted.\")"
   ]
  },
  {
   "cell_type": "code",
   "execution_count": 49,
   "id": "7bd0068d",
   "metadata": {},
   "outputs": [],
   "source": [
    "# Make predictions for the test set\n",
    "y_pred_test = gs2.predict(X_test)"
   ]
  },
  {
   "cell_type": "code",
   "execution_count": 50,
   "id": "be4e1ec6",
   "metadata": {},
   "outputs": [
    {
     "data": {
      "text/plain": [
       "0.8979294726625687"
      ]
     },
     "execution_count": 50,
     "metadata": {},
     "output_type": "execute_result"
    }
   ],
   "source": [
    "# View accuracy score\n",
    "accuracy_score(y_test, y_pred_test)"
   ]
  },
  {
   "cell_type": "code",
   "execution_count": 51,
   "id": "28ca5e1b",
   "metadata": {},
   "outputs": [
    {
     "data": {
      "text/plain": [
       "array([[1738,  285],\n",
       "       [ 346, 3813]])"
      ]
     },
     "execution_count": 51,
     "metadata": {},
     "output_type": "execute_result"
    }
   ],
   "source": [
    "# View confusion matrix for test data and predictions\n",
    "confusion_matrix(y_test, y_pred_test)"
   ]
  },
  {
   "cell_type": "code",
   "execution_count": 52,
   "id": "082d74aa",
   "metadata": {},
   "outputs": [
    {
     "data": {
      "image/png": "[encoded data removed]",
      "text/plain": [
       "<Figure size 1152x504 with 2 Axes>"
      ]
     },
     "metadata": {},
     "output_type": "display_data"
    }
   ],
   "source": [
    "# Get and reshape confusion matrix data\n",
    "matrix = confusion_matrix(y_test, y_pred_test)\n",
    "matrix = matrix.astype('float') / matrix.sum(axis=1)[:, np.newaxis]\n",
    "\n",
    "# Build the plot\n",
    "plt.figure(figsize=(16,7))\n",
    "sns.set(font_scale=1.4)\n",
    "sns.heatmap(matrix, annot=True, annot_kws={'size':10},\n",
    "            cmap=plt.cm.Greens, linewidths=0.2)\n",
    "\n",
    "# Add labels to the plot\n",
    "class_names = ['0','1']\n",
    "tick_marks = np.arange(len(class_names))\n",
    "tick_marks2 = tick_marks + 0.5\n",
    "plt.xticks(tick_marks, class_names, rotation=25)\n",
    "plt.yticks(tick_marks2, class_names, rotation=0)\n",
    "plt.xlabel('Predicted label')\n",
    "plt.ylabel('True label')\n",
    "plt.title('Confusion Matrix for Random Forest Model')\n",
    "plt.show()"
   ]
  },
  {
   "cell_type": "markdown",
   "id": "27905c8d",
   "metadata": {},
   "source": [
    "# Second Model for Category classification (LogisticRegression)"
   ]
  },
  {
   "cell_type": "code",
   "execution_count": 53,
   "id": "20d8da47",
   "metadata": {},
   "outputs": [
    {
     "name": "stdout",
     "output_type": "stream",
     "text": [
      "Fitting grid search...\n",
      "Grid search fitted.\n"
     ]
    }
   ],
   "source": [
    "from sklearn.linear_model import LogisticRegression\n",
    "gs2 = GridSearchCV(\n",
    "    estimator=LogisticRegression(solver='lbfgs', max_iter=1000),\n",
    "    cv=StratifiedKFold(n_splits=5),\n",
    "    param_grid={'class_weight': [None, 'balanced']},\n",
    ")\n",
    "\n",
    "#fit the grid search object to our new dataset\n",
    "print ('Fitting grid search...')\n",
    "gs2.fit(X_train, y_train)\n",
    "print (\"Grid search fitted.\")"
   ]
  },
  {
   "cell_type": "code",
   "execution_count": 54,
   "id": "8ba487d7",
   "metadata": {},
   "outputs": [],
   "source": [
    "# Make predictions for the test set\n",
    "y_pred_test = gs2.predict(X_test)"
   ]
  },
  {
   "cell_type": "code",
   "execution_count": 55,
   "id": "2bea24b6",
   "metadata": {},
   "outputs": [
    {
     "data": {
      "text/plain": [
       "0.8987382724037528"
      ]
     },
     "execution_count": 55,
     "metadata": {},
     "output_type": "execute_result"
    }
   ],
   "source": [
    "# View accuracy score\n",
    "accuracy_score(y_test, y_pred_test)"
   ]
  },
  {
   "cell_type": "code",
   "execution_count": 56,
   "id": "0b36bdf6",
   "metadata": {},
   "outputs": [
    {
     "data": {
      "text/plain": [
       "array([[1704,  319],\n",
       "       [ 307, 3852]])"
      ]
     },
     "execution_count": 56,
     "metadata": {},
     "output_type": "execute_result"
    }
   ],
   "source": [
    "# View confusion matrix for test data and predictions\n",
    "confusion_matrix(y_test, y_pred_test)"
   ]
  },
  {
   "cell_type": "code",
   "execution_count": 57,
   "id": "8a1febfb",
   "metadata": {},
   "outputs": [
    {
     "data": {
      "image/png": "[encoded data removed]",
      "text/plain": [
       "<Figure size 1152x504 with 2 Axes>"
      ]
     },
     "metadata": {},
     "output_type": "display_data"
    }
   ],
   "source": [
    "# Get and reshape confusion matrix data\n",
    "matrix = confusion_matrix(y_test, y_pred_test)\n",
    "matrix = matrix.astype('float') / matrix.sum(axis=1)[:, np.newaxis]\n",
    "\n",
    "# Build the plot\n",
    "plt.figure(figsize=(16,7))\n",
    "sns.set(font_scale=1.4)\n",
    "sns.heatmap(matrix, annot=True, annot_kws={'size':10},\n",
    "            cmap=plt.cm.Greens, linewidths=0.2)\n",
    "\n",
    "# Add labels to the plot\n",
    "class_names = ['0','1']\n",
    "tick_marks = np.arange(len(class_names))\n",
    "tick_marks2 = tick_marks + 0.5\n",
    "plt.xticks(tick_marks, class_names, rotation=25)\n",
    "plt.yticks(tick_marks2, class_names, rotation=0)\n",
    "plt.xlabel('Predicted label')\n",
    "plt.ylabel('True label')\n",
    "plt.title('Confusion Matrix for Random Forest Model')\n",
    "plt.show()"
   ]
  },
  {
   "cell_type": "code",
   "execution_count": null,
   "id": "c1450b48",
   "metadata": {},
   "outputs": [],
   "source": []
  }
 ],
 "metadata": {
  "kernelspec": {
   "display_name": "Python 3 (ipykernel)",
   "language": "python",
   "name": "python3"
  },
  "language_info": {
   "codemirror_mode": {
    "name": "ipython",
    "version": 3
   },
   "file_extension": ".py",
   "mimetype": "text/x-python",
   "name": "python",
   "nbconvert_exporter": "python",
   "pygments_lexer": "ipython3",
   "version": "3.9.7"
  }
 },
 "nbformat": 4,
 "nbformat_minor": 5
}
